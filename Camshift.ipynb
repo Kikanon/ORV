{
 "cells": [
  {
   "cell_type": "markdown",
   "metadata": {},
   "source": [
    "## Detekcija gibanja"
   ]
  },
  {
   "cell_type": "markdown",
   "metadata": {},
   "source": [
    "## Detekcija gibanja - slika razlik"
   ]
  },
  {
   "cell_type": "code",
   "execution_count": 26,
   "metadata": {},
   "outputs": [],
   "source": [
    "import numpy as np\n",
    "import cv2\n",
    "\n",
    "capture = cv2.VideoCapture(0)\n",
    "\n",
    "prviFrame = None\n",
    "\n",
    "while True:\n",
    "    ret, frame = capture.read()\n",
    "    frameColor = frame\n",
    "    frame = cv2.cvtColor(frame, cv2.COLOR_BGR2GRAY)\n",
    "    frame = cv2.GaussianBlur(frame, (21, 21), 0)\n",
    "    if prviFrame is None:\n",
    "        prviFrame = frame\n",
    "        continue\n",
    "        \n",
    "    if cv2.waitKey(10) & 0xFF == ord(\"q\"):\n",
    "        capture.release()\n",
    "        cv2.destroyAllWindows()\n",
    "        break\n",
    "    \n",
    "    \n",
    "    razlika = cv2.absdiff(prviFrame,frame)\n",
    "    thresh = cv2.threshold(razlika, 25, 255, cv2.THRESH_BINARY)[1]\n",
    "    \n",
    "    cv2.imshow(\"Original\",frame)\n",
    "    cv2.imshow(\"Razlika\", razlika)\n",
    "    cv2.imshow(\"Thresh\", thresh)\n",
    "    cv2.waitKey(1)\n",
    "\n",
    "    \n",
    "    thresh = cv2.dilate(thresh, None, iterations=2)\n",
    "    contours, hierarchy = cv2.findContours(thresh.copy(), cv2.RETR_EXTERNAL,cv2.CHAIN_APPROX_SIMPLE)\n",
    "    if len(contours) != 0:    \n",
    "        c_max = max(contours, key=cv2.contourArea)\n",
    "        x,y,w,h = cv2.boundingRect(c_max)\n",
    "        cv2.rectangle(frameColor,(x,y),(x+w,y+h),(0,255,0),2)\n",
    "        #cv2.drawContours(frameColor, contours, i, (255, 0, 0), 1)\n",
    "    cv2.imshow(\"Color\", frameColor)\n",
    "    "
   ]
  },
  {
   "cell_type": "markdown",
   "metadata": {},
   "source": [
    "## Detekcija gibanja - opencv variante"
   ]
  },
  {
   "cell_type": "code",
   "execution_count": 35,
   "metadata": {},
   "outputs": [],
   "source": [
    "import cv2\n",
    "capture = cv2.VideoCapture(0)\n",
    "\n",
    "backSub = cv2.createBackgroundSubtractorMOG2()\n",
    "\n",
    "#backSub = cv2.createBackgroundSubtractorKNN()\n",
    "while True:\n",
    "    ret, frame = capture.read()\n",
    "    if frame is None:\n",
    "        break\n",
    "    \n",
    "    fgMask = backSub.apply(frame)    \n",
    "    \n",
    "    thresh = cv2.threshold(fgMask, 25, 255, cv2.THRESH_BINARY)[1]\n",
    "    contours, hierarchy = cv2.findContours(thresh.copy(), cv2.RETR_EXTERNAL,cv2.CHAIN_APPROX_SIMPLE)\n",
    "    if len(contours) != 0:    \n",
    "        c_max = max(contours, key=cv2.contourArea)\n",
    "        x,y,w,h = cv2.boundingRect(c_max)\n",
    "        cv2.rectangle(frame,(x,y),(x+w,y+h),(0,255,0),2)\n",
    "\n",
    "    cv2.imshow('Frame', frame)\n",
    "    cv2.imshow('FG Mask', fgMask)\n",
    "    \n",
    "    #keyboard = cv2.waitKey(30)\n",
    "    if cv2.waitKey(300) & 0xFF == ord(\"q\"):\n",
    "        cv2.destroyAllWindows()\n",
    "        capture.release()\n",
    "        break\n",
    "        "
   ]
  },
  {
   "cell_type": "code",
   "execution_count": 38,
   "metadata": {},
   "outputs": [
    {
     "name": "stdout",
     "output_type": "stream",
     "text": [
      "['EVENT_FLAG_ALTKEY', 'EVENT_FLAG_CTRLKEY', 'EVENT_FLAG_LBUTTON', 'EVENT_FLAG_MBUTTON', 'EVENT_FLAG_RBUTTON', 'EVENT_FLAG_SHIFTKEY', 'EVENT_LBUTTONDBLCLK', 'EVENT_LBUTTONDOWN', 'EVENT_LBUTTONUP', 'EVENT_MBUTTONDBLCLK', 'EVENT_MBUTTONDOWN', 'EVENT_MBUTTONUP', 'EVENT_MOUSEHWHEEL', 'EVENT_MOUSEMOVE', 'EVENT_MOUSEWHEEL', 'EVENT_RBUTTONDBLCLK', 'EVENT_RBUTTONDOWN', 'EVENT_RBUTTONUP']\n"
     ]
    }
   ],
   "source": [
    "import cv2\n",
    "import numpy as np\n",
    "events = [i for i in dir(cv2) if 'EVENT' in i]\n",
    "print(events)\n",
    "global xLZ\n",
    "global yLZ\n",
    "global xLast\n",
    "global yLast\n",
    "global frame\n",
    "xLZ = 0\n",
    "yLZ = 0\n",
    "frame = None\n",
    "def clickOnImage(event, x, y, flags, param):\n",
    "    global frame, xLZ, yLZ, xLast, yLast\n",
    "    if event == cv2.EVENT_LBUTTONUP:\n",
    "        #print(\"EVENT_LBUTTONUP ({},{})\".format(x,y))\n",
    "        xLZ = 0\n",
    "        yLZ = 0\n",
    "        \n",
    "    if event == cv2.EVENT_LBUTTONDOWN:\n",
    "        #print(\"EVENT_LBUTTONDOWN ({},{})\".format(x,y))\n",
    "        xLZ = x\n",
    "        yLZ = y\n",
    "        \n",
    "    if event == cv2.EVENT_MOUSEMOVE:\n",
    "        #print(\"EVENT_MOUSEMOVE ({},{})\".format(x,y))\n",
    "        xLast = x\n",
    "        yLast = y       \n",
    "        \n",
    "capture = cv2.VideoCapture(0)\n",
    "cv2.namedWindow(\"Slika\")\n",
    "cv2.setMouseCallback(\"Slika\", clickOnImage)\n",
    "miniFrame = None\n",
    "track_window = None\n",
    "while(1):\n",
    "    ret, frame = capture.read()\n",
    "    if ret == True:\n",
    "        if xLZ != 0 or yLZ != 0:\n",
    "            cv2.rectangle(frame,(xLZ,yLZ),(xLast,yLast),(0,255,0),2)\n",
    "            \n",
    "        cv2.imshow('Slika',frame)\n",
    "        if cv2.waitKey(100) & 0xFF == ord(\"q\"):\n",
    "            cv2.destroyAllWindows()\n",
    "            capture.release()\n",
    "            break\n",
    "        if cv2.waitKey(100) & 0xFF == ord(\"r\"):\n",
    "            miniFrame = frame[yLZ:yLast,xLZ:xLast]\n",
    "            track_window = (xLZ, yLZ, xLast-xLZ, yLast-yLZ)\n",
    "            cv2.imshow(\"Mini\",miniFrame)\n",
    "\n",
    "if miniFrame is not None:    \n",
    "    \n",
    "    print(\"Is not none\")\n",
    "    roi = miniFrame\n",
    "    hsv_roi =  cv2.cvtColor(roi, cv2.COLOR_BGR2HSV)\n",
    "    mask = cv2.inRange(hsv_roi, np.array((0., 60.,32.)), np.array((180.,255.,255.)))\n",
    "\n",
    "    \n",
    "    roi_hist = cv2.calcHist([hsv_roi],[0],mask,[180],[0,180])\n",
    "    cv2.normalize(roi_hist,roi_hist,0,255,cv2.NORM_MINMAX)\n",
    "    \n",
    "    term_crit = ( cv2.TERM_CRITERIA_EPS | cv2.TERM_CRITERIA_COUNT, 10, 1 )\n",
    "    \n",
    "    capture = cv2.VideoCapture(0)\n",
    "    while(1):\n",
    "        ret, frame = capture.read()\n",
    "        frame= cv2.flip(frame,1)\n",
    "        if ret == True:\n",
    "            hsv = cv2.cvtColor(frame, cv2.COLOR_BGR2HSV)\n",
    "            dst = cv2.calcBackProject([hsv],[0],roi_hist,[0,180],1)\n",
    "            # apply meanshift to get the new location\n",
    "            ret, track_window = cv2.meanShift(dst, track_window, term_crit)\n",
    "            #ret, track_window = cv2.CamShift(dst, track_window, term_crit)\n",
    "            # Draw it on image\n",
    "            x,y,w,h = track_window\n",
    "            img2 = cv2.rectangle(frame, (x,y), (x+w,y+h), 255,2)\n",
    "            cv2.imshow('img2',img2)\n",
    "            k = cv2.waitKey(30) & 0xff\n",
    "            if k == 27:\n",
    "                break\n",
    "        else:\n",
    "            break\n",
    "    cv2.destroyAllWindows()\n",
    "    capture.release()"
   ]
  },
  {
   "cell_type": "code",
   "execution_count": 15,
   "metadata": {},
   "outputs": [
    {
     "name": "stdout",
     "output_type": "stream",
     "text": [
      "[[1. 1. 2.]\n",
      " [1. 2. 1.]\n",
      " [1. 1. 1.]]\n",
      "{'m00': 11.0, 'm10': 12.0, 'm01': 10.0, 'm20': 20.0, 'm11': 10.0, 'm02': 16.0, 'm30': 36.0, 'm21': 16.0, 'm12': 16.0, 'm03': 28.0, 'mu20': 6.90909090909091, 'mu11': -0.9090909090909101, 'mu02': 6.909090909090908, 'mu30': -0.8925619834710758, 'mu21': -0.1983471074380132, 'mu12': 0.19834710743801853, 'mu03': 0.8925619834710687, 'nu20': 0.05709992486851992, 'nu11': -0.007513148009015786, 'nu02': 0.057099924868519905, 'nu30': -0.002224112097151733, 'nu21': -0.000494247132700376, 'nu12': 0.0004942471327003893, 'nu03': 0.0022241120971517154}\n",
      "11.0\n",
      "10.0\n",
      "12.0\n"
     ]
    }
   ],
   "source": [
    "import cv2\n",
    "import numpy as np\n",
    "\n",
    "img = np.ones((3,3))\n",
    "img[1,1] = 2\n",
    "img[0,2] = 2\n",
    "print(img)\n",
    "\n",
    "mom = cv2.moments(img)\n",
    "print(mom)\n",
    "print (mom['m00'])\n",
    "print (mom['m01'])\n",
    "print (mom['m10'])"
   ]
  }
 ],
 "metadata": {
  "kernelspec": {
   "display_name": "Python 3",
   "language": "python",
   "name": "python3"
  },
  "language_info": {
   "codemirror_mode": {
    "name": "ipython",
    "version": 3
   },
   "file_extension": ".py",
   "mimetype": "text/x-python",
   "name": "python",
   "nbconvert_exporter": "python",
   "pygments_lexer": "ipython3",
   "version": "3.7.4"
  }
 },
 "nbformat": 4,
 "nbformat_minor": 2
}
